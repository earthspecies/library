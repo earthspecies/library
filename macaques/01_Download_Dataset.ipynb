{
 "cells": [
  {
   "cell_type": "markdown",
   "metadata": {},
   "source": [
    "## Download Dataset"
   ]
  },
  {
   "cell_type": "markdown",
   "metadata": {},
   "source": [
    "Let's begin by downloading the data."
   ]
  },
  {
   "cell_type": "code",
   "execution_count": 1,
   "metadata": {},
   "outputs": [],
   "source": [
    "!mkdir data"
   ]
  },
  {
   "cell_type": "code",
   "execution_count": 2,
   "metadata": {},
   "outputs": [
    {
     "name": "stdout",
     "output_type": "stream",
     "text": [
      "--2021-01-30 15:16:55--  https://archive.org/download/macaque_coo_calls/macaques.zip\n",
      "Resolving archive.org (archive.org)... 207.241.224.2\n",
      "Connecting to archive.org (archive.org)|207.241.224.2|:443... connected.\n",
      "HTTP request sent, awaiting response... 302 Found\n",
      "Location: https://ia601500.us.archive.org/24/items/macaque_coo_calls/macaques.zip [following]\n",
      "--2021-01-30 15:16:56--  https://ia601500.us.archive.org/24/items/macaque_coo_calls/macaques.zip\n",
      "Resolving ia601500.us.archive.org (ia601500.us.archive.org)... 207.241.227.110\n",
      "Connecting to ia601500.us.archive.org (ia601500.us.archive.org)|207.241.227.110|:443... connected.\n",
      "HTTP request sent, awaiting response... 200 OK\n",
      "Length: 132047998 (126M) [application/zip]\n",
      "Saving to: ‘macaques.zip’\n",
      "\n",
      "macaques.zip        100%[===================>] 125.93M  1.91MB/s    in 65s     \n",
      "\n",
      "2021-01-30 15:18:01 (1.95 MB/s) - ‘macaques.zip’ saved [132047998/132047998]\n",
      "\n"
     ]
    }
   ],
   "source": [
    "!cd data && wget https://archive.org/download/macaque_coo_calls/macaques.zip && unzip -q macaques.zip"
   ]
  },
  {
   "cell_type": "markdown",
   "metadata": {},
   "source": [
    "And we now have everything that we need!"
   ]
  },
  {
   "cell_type": "code",
   "execution_count": 3,
   "metadata": {},
   "outputs": [
    {
     "name": "stdout",
     "output_type": "stream",
     "text": [
      "annotations.csv  \u001B[0m\u001B[01;31mmacaques.zip\u001B[0m  \u001B[01;34mtrain\u001B[0m/  \u001B[01;34mvalid\u001B[0m/\r\n"
     ]
    }
   ],
   "source": [
    "!ls data"
   ]
  },
  {
   "cell_type": "markdown",
   "metadata": {},
   "source": [
    "The `annotations.csv` file contains label information. The data has been split into a train and validation set, but feel free to split it in any other way if that would be more appropriate. Retaining the split can help compare results. "
   ]
  }
 ],
 "metadata": {
  "kernelspec": {
   "display_name": "Python 3",
   "language": "python",
   "name": "python3"
  },
  "language_info": {
   "codemirror_mode": {
    "name": "ipython",
    "version": 3
   },
   "file_extension": ".py",
   "mimetype": "text/x-python",
   "name": "python",
   "nbconvert_exporter": "python",
   "pygments_lexer": "ipython3",
   "version": "3.7.6"
  }
 },
 "nbformat": 4,
 "nbformat_minor": 4
}